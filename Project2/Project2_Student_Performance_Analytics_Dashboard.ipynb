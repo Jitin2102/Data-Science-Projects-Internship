{
 "cells": [
  {
   "cell_type": "markdown",
   "id": "e365c11b",
   "metadata": {},
   "source": [
    "**Project 02 :Student Performance Analytics Dashboard**"
   ]
  },
  {
   "cell_type": "markdown",
   "id": "2a55bd1f",
   "metadata": {},
   "source": [
    "***Installing neccesary libraries***"
   ]
  },
  {
   "cell_type": "code",
   "execution_count": null,
   "id": "a93f6409",
   "metadata": {},
   "outputs": [],
   "source": [
    "# %pip install pandas\n",
    "# %pip install numpy\n",
    "# %pip install matplot\n",
    "# %pip install scikit-learn\n",
    "# %pip install seaborn"
   ]
  },
  {
   "cell_type": "markdown",
   "id": "09592668",
   "metadata": {},
   "source": [
    "***Importing Required Libraries***"
   ]
  },
  {
   "cell_type": "code",
   "execution_count": null,
   "id": "3b37c863",
   "metadata": {},
   "outputs": [],
   "source": [
    "import pandas as pd\n",
    "import numpy as np\n",
    "import seaborn as sns\n",
    "import matplotlib.pyplot as plt\n",
    "from sklearn.model_selection import train_test_split\n",
    "from sklearn.preprocessing import StandardScaler\n",
    "from sklearn.ensemble import RandomForestClassifier"
   ]
  },
  {
   "cell_type": "markdown",
   "id": "2f306fba",
   "metadata": {},
   "source": [
    "***Importing Student Data***"
   ]
  },
  {
   "cell_type": "code",
   "execution_count": null,
   "id": "794d1aae",
   "metadata": {},
   "outputs": [],
   "source": [
    "data = pd.read_csv(\"student_data1.csv\")\n",
    "print(data)\n",
    "# Clean column names: remove spaces and lowercase\n",
    "data.columns = [col.strip().lower().replace(\" \", \"\") for col in data.columns]\n",
    "# Fix attendance column: handle 'attendance(%)' and standardize to 'attendance'\n",
    "if \"attendance(%)\" in data.columns:\n",
    "    data = data.rename(columns={\"attendance(%)\": \"attendance\"})"
   ]
  },
  {
   "cell_type": "markdown",
   "id": "153e79d3",
   "metadata": {},
   "source": [
    "***Calculation of average marks, attendance, and logins***"
   ]
  },
  {
   "cell_type": "code",
   "execution_count": null,
   "id": "18880d0c",
   "metadata": {},
   "outputs": [],
   "source": [
    "marks_avg = data[\"marks\"].mean()\n",
    "attendance_avg = data[\"attendance\"].mean()\n",
    "logins_avg = data[\"logins\"].mean()\n",
    "print(f\"Average Marks: {marks_avg:.2f}\")\n",
    "print(f\"Average Attendance: {attendance_avg:.2f}\")\n",
    "print(f\"Average Logins: {logins_avg:.2f}\")"
   ]
  },
  {
   "cell_type": "markdown",
   "id": "1e598be6",
   "metadata": {},
   "source": [
    "***Correlation Matrix***"
   ]
  },
  {
   "cell_type": "code",
   "execution_count": null,
   "id": "1d53f680",
   "metadata": {},
   "outputs": [],
   "source": [
    "corr = data[[\"marks\", \"attendance\", \"logins\"]].corr()\n",
    "print(\"\\nCorrelation Matrix:\")\n",
    "print(corr)"
   ]
  },
  {
   "cell_type": "markdown",
   "id": "91fe2a74",
   "metadata": {},
   "source": [
    "***Correlation Heatmap***"
   ]
  },
  {
   "cell_type": "code",
   "execution_count": null,
   "id": "1e910dcf",
   "metadata": {},
   "outputs": [],
   "source": [
    "plt.figure(figsize=(7,5))\n",
    "sns.heatmap(corr, annot=True, cmap=\"coolwarm\")\n",
    "plt.title(\"Correlation Between Features\")\n",
    "plt.tight_layout()\n",
    "plt.show()"
   ]
  },
  {
   "cell_type": "markdown",
   "id": "834677ab",
   "metadata": {},
   "source": [
    "***Defining Risk based on performance and attendence***"
   ]
  },
  {
   "cell_type": "code",
   "execution_count": null,
   "id": "432f85c3",
   "metadata": {},
   "outputs": [],
   "source": [
    "data[\"risk\"] = np.where((data[\"marks\"] < 40) | (data[\"attendance\"] < 60), 1, 0)"
   ]
  },
  {
   "cell_type": "markdown",
   "id": "0eb90800",
   "metadata": {},
   "source": [
    "***Absentee impact (Barplot: risk vs attendance)***"
   ]
  },
  {
   "cell_type": "code",
   "execution_count": null,
   "id": "bdac1262",
   "metadata": {},
   "outputs": [],
   "source": [
    "plt.figure(figsize=(7,5))\n",
    "sns.barplot(x=\"risk\", y=\"attendance\", data=data, hue=\"risk\", palette=\"Reds\", legend=False)\n",
    "plt.xlabel(\"Risk Level (0 = Safe, 1 = At Risk)\")\n",
    "plt.ylabel(\"Attendance\")\n",
    "plt.title(\"Absentee Impact on Student Risk\")\n",
    "plt.tight_layout()\n",
    "plt.show()"
   ]
  },
  {
   "cell_type": "markdown",
   "id": "e18dbc72",
   "metadata": {},
   "source": [
    "***Top vs Struggling Students (Barplot: risk vs marks)***"
   ]
  },
  {
   "cell_type": "code",
   "execution_count": null,
   "id": "d30364c5",
   "metadata": {},
   "outputs": [],
   "source": [
    "plt.figure(figsize=(7,5))\n",
    "sns.barplot(x=\"risk\", y=\"marks\", data=data, hue=\"risk\", palette=\"Blues\", legend=False)\n",
    "plt.xlabel(\"Risk Level (0 = Safe, 1 = At Risk)\")\n",
    "plt.ylabel(\"Marks\")\n",
    "plt.title(\"Performance Comparison of Students\")\n",
    "plt.tight_layout()\n",
    "plt.show()"
   ]
  },
  {
   "cell_type": "markdown",
   "id": "9fd2d929",
   "metadata": {},
   "source": [
    "***Preparing training and test sets for model***"
   ]
  },
  {
   "cell_type": "code",
   "execution_count": null,
   "id": "03037f4e",
   "metadata": {},
   "outputs": [],
   "source": [
    "# Selecting features and target\n",
    "X = data[[\"marks\", \"attendance\", \"logins\"]]\n",
    "y = data[\"risk\"]\n",
    "\n",
    "# Spliting dataset into train and test sets\n",
    "X_train, X_test, y_train, y_test = train_test_split(X, y, test_size=0.2, random_state=42)\n",
    "\n",
    "# Scaling features\n",
    "scaler = StandardScaler()\n",
    "X_train_scaled = scaler.fit_transform(X_train)\n",
    "X_test_scaled = scaler.transform(X_test)"
   ]
  },
  {
   "cell_type": "markdown",
   "id": "75c86b60",
   "metadata": {},
   "source": [
    "***Training Random Forest Classifier and Predicting At-Risk Students***"
   ]
  },
  {
   "cell_type": "code",
   "execution_count": null,
   "id": "95e981e5",
   "metadata": {},
   "outputs": [],
   "source": [
    "model = RandomForestClassifier(n_estimators=100, random_state=42)\n",
    "model.fit(X_train_scaled, y_train)\n",
    "\n",
    "\n",
    "y_pred = model.predict(X_test_scaled)\n",
    "\n",
    "\n",
    "num_at_risk = data[\"risk\"].sum()\n",
    "total_students = len(data)\n",
    "percent_at_risk = (num_at_risk / total_students) * 100\n",
    "print(f\"\\nNumber of At-Risk Students: {num_at_risk} ({percent_at_risk:.1f}%)\")\n",
    "# Top 10 At-Risk Students with lowest marks and attendance\n",
    "at_risk_students = data[data[\"risk\"] == 1].sort_values(by=[\"marks\", \"attendance\"])\n",
    "print(\"\\nTop 10 At-Risk Students (Lowest Marks & Attendance):\")\n",
    "print(at_risk_students[[\"marks\", \"attendance\", \"logins\"]].head(10))"
   ]
  },
  {
   "cell_type": "markdown",
   "id": "d130afad",
   "metadata": {},
   "source": [
    "***Distribution of marks and attendance for At-Risk vs Safe Students***"
   ]
  },
  {
   "cell_type": "code",
   "execution_count": null,
   "id": "931c938d",
   "metadata": {},
   "outputs": [],
   "source": [
    "plt.figure(figsize=(10,4))\n",
    "plt.subplot(1,2,1)\n",
    "sns.boxplot(x=\"risk\", y=\"marks\", data=data, hue=\"risk\", palette=\"Set2\", legend=False)\n",
    "plt.title(\"Marks Distribution by Risk\")\n",
    "plt.xlabel(\"Risk (0=Safe, 1=At Risk)\")\n",
    "plt.subplot(1,2,2)\n",
    "sns.boxplot(x=\"risk\", y=\"attendance\", data=data, hue=\"risk\", palette=\"Set1\", legend=False)\n",
    "plt.title(\"Attendance Distribution by Risk\")\n",
    "plt.xlabel(\"Risk (0=Safe, 1=At Risk)\")\n",
    "plt.tight_layout()\n",
    "plt.show()"
   ]
  },
  {
   "cell_type": "markdown",
   "id": "85fa3116",
   "metadata": {},
   "source": [
    "***Bar chart: Count of At-risk vs Safe Students***"
   ]
  },
  {
   "cell_type": "code",
   "execution_count": null,
   "id": "695c89f4",
   "metadata": {},
   "outputs": [],
   "source": [
    "plt.figure(figsize=(5,4))\n",
    "sns.countplot(x=\"risk\", data=data, hue=\"risk\", palette=\"pastel\", legend=False)\n",
    "plt.title(\"Count of Safe vs At-Risk Students\")\n",
    "plt.xlabel(\"Risk (0=Safe, 1=At Risk)\")\n",
    "plt.ylabel(\"Number of Students\")\n",
    "plt.tight_layout()\n",
    "plt.show()\n",
    "print(f\"Number of students At-risk :{num_at_risk}\")"
   ]
  },
  {
   "cell_type": "markdown",
   "id": "8b1f761f",
   "metadata": {},
   "source": [
    "***Engagement score: weighted sum of attendance and logins***"
   ]
  },
  {
   "cell_type": "code",
   "execution_count": null,
   "id": "d83ce737",
   "metadata": {},
   "outputs": [],
   "source": [
    "data[\"engagement_score\"] = 0.7 * data[\"attendance\"] + 0.3 * (data[\"logins\"] / data[\"logins\"].max() * 100)\n",
    "print(\"\\nEngagement Scores:\")\n",
    "print(data[[\"marks\", \"attendance\", \"logins\", \"engagement_score\"]].head())"
   ]
  },
  {
   "cell_type": "markdown",
   "id": "af4b418e",
   "metadata": {},
   "source": [
    "***Distribution of Engagement score***"
   ]
  },
  {
   "cell_type": "code",
   "execution_count": null,
   "id": "069bbbc4",
   "metadata": {},
   "outputs": [],
   "source": [
    "plt.figure(figsize=(7,4))\n",
    "sns.histplot(data[\"engagement_score\"], bins=20, kde=True, color=\"purple\")\n",
    "plt.title(\"Distribution of Engagement Scores\")\n",
    "plt.xlabel(\"Engagement Score\")\n",
    "plt.ylabel(\"Number of Students\")\n",
    "plt.tight_layout()\n",
    "plt.show()"
   ]
  },
  {
   "cell_type": "markdown",
   "id": "09680d99",
   "metadata": {},
   "source": [
    "***Actions for At-Risk students***"
   ]
  },
  {
   "cell_type": "code",
   "execution_count": null,
   "id": "d073e494",
   "metadata": {},
   "outputs": [],
   "source": [
    "def suggest_intervention(row):\n",
    "    suggestions = []\n",
    "    if row[\"marks\"] < 40:\n",
    "        suggestions.append(\"Academic coaching\")\n",
    "    if row[\"attendance\"] < 60:\n",
    "        suggestions.append(\"Attendance counseling\")\n",
    "    if row[\"engagement_score\"] < 60:\n",
    "        suggestions.append(\"Mentorship program\")\n",
    "    return \", \".join(suggestions) if suggestions else \"No intervention needed\"\n",
    "\n",
    "at_risk_students = data[data[\"risk\"] == 1].copy()\n",
    "at_risk_students[\"suggestion\"] = at_risk_students.apply(suggest_intervention, axis=1)\n",
    "print(\"\\nIntervention Suggestions for Top 10 At-Risk Students:\")\n",
    "print(at_risk_students[[\"marks\", \"attendance\", \"logins\", \"engagement_score\", \"suggestion\"]].sort_values(by=[\"marks\", \"attendance\"]).head(10))"
   ]
  }
 ],
 "metadata": {
  "kernelspec": {
   "display_name": ".venv",
   "language": "python",
   "name": "python3"
  },
  "language_info": {
   "codemirror_mode": {
    "name": "ipython",
    "version": 3
   },
   "file_extension": ".py",
   "mimetype": "text/x-python",
   "name": "python",
   "nbconvert_exporter": "python",
   "pygments_lexer": "ipython3",
   "version": "3.13.1"
  }
 },
 "nbformat": 4,
 "nbformat_minor": 5
}
