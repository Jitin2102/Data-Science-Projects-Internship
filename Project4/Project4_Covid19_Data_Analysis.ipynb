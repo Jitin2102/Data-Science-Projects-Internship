{
 "cells": [
  {
   "cell_type": "markdown",
   "id": "4da7e029",
   "metadata": {},
   "source": [
    "**Project 4 : Covid-19 Data Analysis**"
   ]
  },
  {
   "cell_type": "markdown",
   "id": "580f91c5",
   "metadata": {},
   "source": [
    "***Installing neccesary libraries***"
   ]
  },
  {
   "cell_type": "code",
   "execution_count": null,
   "id": "b6697d6b",
   "metadata": {},
   "outputs": [],
   "source": [
    "# %pip install pandas\n",
    "# %pip install numpy\n",
    "# %pip install matplot\n",
    "# %pip install scikit-learn\n",
    "# %pip install seaborn"
   ]
  },
  {
   "cell_type": "markdown",
   "id": "5ab3b023",
   "metadata": {},
   "source": [
    "***Importing necessary libraries***"
   ]
  },
  {
   "cell_type": "code",
   "execution_count": null,
   "id": "cc060ebe",
   "metadata": {},
   "outputs": [],
   "source": [
    "import pandas as pd\n",
    "import matplotlib.pyplot as plt\n",
    "import seaborn as sns\n",
    "import plotly.express as px"
   ]
  },
  {
   "cell_type": "markdown",
   "id": "d8ae66f3",
   "metadata": {},
   "source": [
    "***DataSet***"
   ]
  },
  {
   "cell_type": "code",
   "execution_count": null,
   "id": "5eb73fce",
   "metadata": {},
   "outputs": [],
   "source": [
    "df = pd.read_csv('C:/Users/HP/Python/Data Science Projects/covid_data copy.csv')\n",
    "print(df)"
   ]
  },
  {
   "cell_type": "markdown",
   "id": "26a20c21",
   "metadata": {},
   "source": [
    "***Preparing Data***"
   ]
  },
  {
   "cell_type": "code",
   "execution_count": null,
   "id": "fd717a9c",
   "metadata": {},
   "outputs": [],
   "source": [
    "df.dropna(inplace=True)\n",
    "df.columns = df.columns.str.title()  # Normalize column names\n",
    "df['Date'] = pd.to_datetime(df['Date'])\n",
    "\n",
    "\n",
    "df_grouped = df.groupby(['Country', 'Date'])[['Confirmed', 'Recovered', 'Deaths']].sum().reset_index()\n",
    "\n",
    "\n",
    "def is_valid_country(country):\n",
    "    return country in df_grouped['Country'].unique()"
   ]
  },
  {
   "cell_type": "markdown",
   "id": "4ca22f57",
   "metadata": {},
   "source": [
    "***Line Plot for Covid-19 trends***"
   ]
  },
  {
   "cell_type": "code",
   "execution_count": null,
   "id": "d0223f5c",
   "metadata": {},
   "outputs": [],
   "source": [
    "def plot_country_trends(country):\n",
    "    if not is_valid_country(country):\n",
    "        print(f\"'{country}' not found in dataset.\")\n",
    "        return\n",
    "    data = df_grouped[df_grouped['Country'] == country]\n",
    "    plt.figure(figsize=(12, 6))\n",
    "    for metric in ['Confirmed', 'Recovered', 'Deaths']:\n",
    "        plt.plot(data['Date'], data[metric], label=metric)\n",
    "    plt.title(f'COVID-19 Cumulative Trends in {country}')\n",
    "    plt.xlabel('Date')\n",
    "    plt.ylabel('Number of Cases')\n",
    "    plt.legend()\n",
    "    plt.grid(True)\n",
    "    plt.tight_layout()\n",
    "    plt.show()"
   ]
  },
  {
   "cell_type": "markdown",
   "id": "2deb03f1",
   "metadata": {},
   "source": [
    "***Area Chart for Covid-19 Trends***"
   ]
  },
  {
   "cell_type": "code",
   "execution_count": null,
   "id": "1789d4c8",
   "metadata": {},
   "outputs": [],
   "source": [
    "def area_chart(country):\n",
    "    if not is_valid_country(country):\n",
    "        print(f\"'{country}' not found in dataset.\")\n",
    "        return\n",
    "    data = df_grouped[df_grouped['Country'] == country]\n",
    "    data.set_index('Date')[['Confirmed', 'Recovered', 'Deaths']].plot.area(alpha=0.4, figsize=(12, 6))\n",
    "    plt.title(f'Cumulative COVID-19 Spread in {country}')\n",
    "    plt.ylabel('Number of Cases')\n",
    "    plt.tight_layout()\n",
    "    plt.show()\n",
    "    "
   ]
  },
  {
   "cell_type": "markdown",
   "id": "3920957f",
   "metadata": {},
   "source": [
    "***Line Plot and Area Chart for Covid-19 trends in India, USA, Brazil***"
   ]
  },
  {
   "cell_type": "code",
   "execution_count": null,
   "id": "2b850774",
   "metadata": {},
   "outputs": [],
   "source": [
    "countries = ['India', 'USA', 'Brazil']\n",
    "for country in countries:\n",
    "    area_chart(country)\n",
    "    plot_country_trends(country)"
   ]
  },
  {
   "cell_type": "markdown",
   "id": "2787258e",
   "metadata": {},
   "source": [
    "***Bar chart for total confirmed cases per country***"
   ]
  },
  {
   "cell_type": "code",
   "execution_count": null,
   "id": "c46af5d8",
   "metadata": {},
   "outputs": [],
   "source": [
    "def plot_total_cases():\n",
    "    total_cases = df_grouped.groupby('Country')[['Confirmed']].sum().reset_index()\n",
    "    plt.figure(figsize=(12, 6))\n",
    "    sns.barplot(x='Country', y='Confirmed',legend=False, data=total_cases, palette='viridis')\n",
    "    plt.title('Total Confirmed Cases by Country')\n",
    "    plt.xticks(rotation=45)\n",
    "    plt.tight_layout()\n",
    "    plt.show()\n",
    "plot_total_cases()    "
   ]
  },
  {
   "cell_type": "markdown",
   "id": "39165374",
   "metadata": {},
   "source": [
    "***Heatmap: average daily stats per country***"
   ]
  },
  {
   "cell_type": "code",
   "execution_count": null,
   "id": "7547c18a",
   "metadata": {},
   "outputs": [],
   "source": [
    "def plot_heatmap():\n",
    "    heat_df = df_grouped.groupby('Country')[['Confirmed', 'Recovered', 'Deaths']].mean()\n",
    "    plt.figure(figsize=(12, 8))\n",
    "    sns.heatmap(heat_df, annot=True, fmt=\".0f\", cmap='YlOrRd')\n",
    "    plt.title('Average Daily COVID-19 Stats per Country')\n",
    "    plt.tight_layout()\n",
    "    plt.show()\n",
    "plot_heatmap()    "
   ]
  },
  {
   "cell_type": "markdown",
   "id": "192efdcb",
   "metadata": {},
   "source": [
    "***Interactive line plot with Plotly***"
   ]
  },
  {
   "cell_type": "code",
   "execution_count": null,
   "id": "add98b46",
   "metadata": {},
   "outputs": [],
   "source": [
    "\n",
    "def interactive_plot_countries(countries):\n",
    "    filtered = df_grouped[df_grouped['Country'].isin(countries)]\n",
    "    fig = px.line(filtered, x=\"Date\", y=\"Confirmed\", color=\"Country\",\n",
    "                  title=\"Confirmed Cases Over Time\")\n",
    "    fig.show()\n",
    "interactive_plot_countries(countries)    \n"
   ]
  },
  {
   "cell_type": "markdown",
   "id": "41900cb3",
   "metadata": {},
   "source": [
    "***Animated Global Plot***"
   ]
  },
  {
   "cell_type": "code",
   "execution_count": null,
   "id": "141baa23",
   "metadata": {},
   "outputs": [],
   "source": [
    "def animated_global_plot():\n",
    "    fig = px.scatter(df_grouped, x=\"Recovered\", y=\"Deaths\",\n",
    "                    animation_frame=\"Date\", animation_group=\"Country\",\n",
    "                    size=\"Confirmed\", color=\"Country\", hover_name=\"Country\",\n",
    "                    log_x=True, size_max=60, range_x=[100,1e7], range_y=[0,1e6],\n",
    "                title=\"Global COVID-19 Trends Over Time\")\n",
    "    fig.show()\n",
    "animated_global_plot()    "
   ]
  }
 ],
 "metadata": {
  "kernelspec": {
   "display_name": ".venv",
   "language": "python",
   "name": "python3"
  },
  "language_info": {
   "codemirror_mode": {
    "name": "ipython",
    "version": 3
   },
   "file_extension": ".py",
   "mimetype": "text/x-python",
   "name": "python",
   "nbconvert_exporter": "python",
   "pygments_lexer": "ipython3",
   "version": "3.13.1"
  }
 },
 "nbformat": 4,
 "nbformat_minor": 5
}
