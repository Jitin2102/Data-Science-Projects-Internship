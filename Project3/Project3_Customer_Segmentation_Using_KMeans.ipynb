{
 "cells": [
  {
   "cell_type": "markdown",
   "id": "2fd0ec5a",
   "metadata": {},
   "source": [
    "***Project 3 : \" Customer Segmentation Using K-Means \"***\n",
    "**Problem Statement**:\n",
    " ***Businesses need to target different customers differently based on behavior.***\n",
    " **Objective**:\n",
    " ***Cluster customers into groups using unsupervised learning.***\n",
    " **Requirements**:\n",
    "**1.** ***Use K-Means clustering on data (age, income, frequency,spending)***\n",
    "**2.** ***Preprocess data using scaling***\n",
    "**3.** ***Visualize clusters using 2D or 3D scatter plots***\n",
    "**Expected Outcome**:\n",
    "***Identify 3–5 meaningful customer types for marketing or offers.***"
   ]
  },
  {
   "cell_type": "markdown",
   "id": "6a761177",
   "metadata": {},
   "source": [
    "***Installing neccesary libraries***"
   ]
  },
  {
   "cell_type": "code",
   "execution_count": null,
   "id": "00cfaeba",
   "metadata": {},
   "outputs": [],
   "source": [
    "# %pip install pandas\n",
    "# %pip install numpy\n",
    "# %pip install matplot\n",
    "# %pip install scikit-learn\n",
    "# %pip install seaborn"
   ]
  },
  {
   "cell_type": "markdown",
   "id": "e049dd8b",
   "metadata": {},
   "source": [
    "***Importing  required libraries and Data***"
   ]
  },
  {
   "cell_type": "code",
   "execution_count": null,
   "id": "23316443",
   "metadata": {},
   "outputs": [],
   "source": [
    "import matplotlib.pyplot as plt\n",
    "import numpy as np\n",
    "import pandas as pd\n",
    "import seaborn as sns\n",
    "from sklearn.cluster import KMeans\n",
    "from sklearn.preprocessing import StandardScaler\n",
    "from sklearn.metrics import silhouette_score\n",
    "from sklearn.neighbors import KNeighborsClassifier\n",
    "\n",
    "import os\n",
    "\n",
    "# Load dataset or create synthetic data if file does not exist\n",
    "if not os.path.exists('C:/Users/HP/Python/Data Science Projects/customer_data.csv'):\n",
    "    np.random.seed(42)\n",
    "    n_samples = 200\n",
    "    df = pd.DataFrame({  # for emergency when dataset is not available\n",
    "        'age': np.random.randint(18, 70, size=n_samples),\n",
    "        'income': np.random.randint(20000, 120000, size=n_samples),\n",
    "        'frequency': np.random.randint(1, 30, size=n_samples),\n",
    "        'spending': np.random.randint(100, 10000, size=n_samples)\n",
    "    })\n",
    "    df.to_csv('customer_data.csv', index=False)\n",
    "else:\n",
    "    df = pd.read_csv('customer_data.csv')\n",
    "data = pd.read_csv('customer_data.csv')  \n",
    "print(data)"
   ]
  },
  {
   "cell_type": "markdown",
   "id": "34f4080d",
   "metadata": {},
   "source": [
    "***Preparing Data for our model in required format***"
   ]
  },
  {
   "cell_type": "code",
   "execution_count": null,
   "id": "f11a0bec",
   "metadata": {},
   "outputs": [],
   "source": [
    "# Cleaning column names and ensure all are lowercase, no spaces\n",
    "df.columns = [col.strip().lower().replace(\" \", \"_\") for col in df.columns]\n",
    "\n",
    "# Checking for missing values and fill if necessary\n",
    "if df.isnull().sum().sum() > 0:\n",
    "    df = df.fillna(df.median(numeric_only=True))\n",
    "\n",
    "# Selecting relevant features\n",
    "feature_cols = ['age', 'income', 'frequency', 'spending']\n",
    "df = df[feature_cols] \n",
    "print(f\"Prepared DataSet\\n{df}\")\n",
    "\n",
    "features = df[feature_cols]\n",
    "\n",
    "# Scaling data\n",
    "scaler = StandardScaler()\n",
    "scaled_features = scaler.fit_transform(features)"
   ]
  },
  {
   "cell_type": "markdown",
   "id": "71b2a8fd",
   "metadata": {},
   "source": [
    "***Finding the optimal number of clusters (Elbow Method + Silhouette)***"
   ]
  },
  {
   "cell_type": "code",
   "execution_count": null,
   "id": "1fd86b2f",
   "metadata": {},
   "outputs": [],
   "source": [
    "wcss = []\n",
    "silhouette_scores = []\n",
    "K_range = range(2, 8)  \n",
    "for i in K_range:\n",
    "    kmeans = KMeans(n_clusters=i, random_state=42, n_init=10)\n",
    "    kmeans.fit(scaled_features)\n",
    "    wcss.append(kmeans.inertia_)\n",
    "    score = silhouette_score(scaled_features, kmeans.labels_)\n",
    "    silhouette_scores.append(score)\n",
    "\n",
    "plt.figure(figsize=(12, 5))\n",
    "plt.subplot(1, 2, 1)\n",
    "plt.plot(list(K_range), wcss, marker='o')\n",
    "plt.xlabel('Number of Clusters')\n",
    "plt.ylabel('WCSS')\n",
    "plt.title('Elbow Method for Optimal K (2-7)')\n",
    "\n",
    "plt.subplot(1, 2, 2)\n",
    "plt.plot(list(K_range), silhouette_scores, marker='x', color='orange')\n",
    "plt.xlabel('Number of Clusters')\n",
    "plt.ylabel('Silhouette Score')\n",
    "plt.title('Silhouette Score vs K (2-7)')\n",
    "plt.tight_layout()\n",
    "plt.show()"
   ]
  },
  {
   "cell_type": "markdown",
   "id": "448b1ab9",
   "metadata": {},
   "source": [
    "***Selecting 3-5 Meaningful Clusters based on silhouette score***"
   ]
  },
  {
   "cell_type": "code",
   "execution_count": null,
   "id": "b586ef7b",
   "metadata": {},
   "outputs": [],
   "source": [
    "optimal_k = K_range[np.argmax(silhouette_scores)]\n",
    "print(f\"Optimal number of clusters (by silhouette score): {optimal_k}\")"
   ]
  },
  {
   "cell_type": "markdown",
   "id": "8fb430de",
   "metadata": {},
   "source": [
    "***KMeans with optimal_k and assign cluster label**"
   ]
  },
  {
   "cell_type": "code",
   "execution_count": null,
   "id": "e48753a7",
   "metadata": {},
   "outputs": [],
   "source": [
    "kmeans = KMeans(n_clusters=optimal_k, random_state=42, n_init=10)\n",
    "df['cluster'] = kmeans.fit_predict(scaled_features)"
   ]
  },
  {
   "cell_type": "markdown",
   "id": "da7d6115",
   "metadata": {},
   "source": [
    "***2D Scatter Plot: Age vs Income***"
   ]
  },
  {
   "cell_type": "code",
   "execution_count": null,
   "id": "f779ab57",
   "metadata": {},
   "outputs": [],
   "source": [
    "plt.figure(figsize=(10, 6))\n",
    "sns.scatterplot(x=df['age'], y=df['income'], hue=df['cluster'], palette='viridis')\n",
    "plt.xlabel('Age')\n",
    "plt.ylabel('Income')\n",
    "plt.title('Customer Clusters (Age vs Income)')\n",
    "plt.legend(title='Cluster')\n",
    "plt.show()"
   ]
  },
  {
   "cell_type": "markdown",
   "id": "56c6947b",
   "metadata": {},
   "source": [
    "***2D Scatter Plot: Frequency vs Spending***"
   ]
  },
  {
   "cell_type": "code",
   "execution_count": null,
   "id": "a814bd00",
   "metadata": {},
   "outputs": [],
   "source": [
    "plt.figure(figsize=(10, 6))\n",
    "sns.scatterplot(x=df['frequency'], y=df['spending'], hue=df['cluster'], palette='viridis')\n",
    "plt.xlabel('Frequency')\n",
    "plt.ylabel('Spending')\n",
    "plt.title('Customer Clusters (Frequency vs Spending)')\n",
    "plt.legend(title='Cluster')\n",
    "plt.show()"
   ]
  },
  {
   "cell_type": "markdown",
   "id": "7220f49b",
   "metadata": {},
   "source": [
    "***3D Scatter Plot: Age, Income, Spending***"
   ]
  },
  {
   "cell_type": "code",
   "execution_count": null,
   "id": "41fc9daf",
   "metadata": {},
   "outputs": [],
   "source": [
    "fig = plt.figure(figsize=(10,7))\n",
    "ax = fig.add_subplot(111, projection='3d')\n",
    "ax.scatter(df['age'], df['income'], df['spending'], c=df['cluster'], cmap='viridis')\n",
    "ax.set_xlabel('Age')\n",
    "ax.set_ylabel('Income')\n",
    "ax.set_zlabel('Spending')\n",
    "ax.set_title('3D Customer Segmentation')\n",
    "plt.show()"
   ]
  },
  {
   "cell_type": "markdown",
   "id": "adeb67b4",
   "metadata": {},
   "source": [
    "***Cluster Summary for Marketing Insights***"
   ]
  },
  {
   "cell_type": "code",
   "execution_count": null,
   "id": "17a14add",
   "metadata": {},
   "outputs": [],
   "source": [
    "print(\"\\nCluster Summary (mean values):\")\n",
    "summary = df.groupby('cluster')[feature_cols].mean().round(2)\n",
    "print(summary)"
   ]
  },
  {
   "cell_type": "markdown",
   "id": "ad62d625",
   "metadata": {},
   "source": [
    "***Cluster sizes***"
   ]
  },
  {
   "cell_type": "code",
   "execution_count": null,
   "id": "0cdf43c8",
   "metadata": {},
   "outputs": [],
   "source": [
    "print(\"\\nCluster Sizes:\")\n",
    "print(df['cluster'].value_counts().sort_index())"
   ]
  },
  {
   "cell_type": "markdown",
   "id": "e96b8546",
   "metadata": {},
   "source": [
    "***5 Meaningful Customer types for Marketing***"
   ]
  },
  {
   "cell_type": "code",
   "execution_count": null,
   "id": "59ea7674",
   "metadata": {},
   "outputs": [],
   "source": [
    "print(\"\\nCustomer Segment Profiles:\")\n",
    "for cluster_id, row in summary.iterrows():\n",
    "    desc = []\n",
    "    if row['income'] > summary['income'].mean() and row['spending'] > summary['spending'].mean():\n",
    "        desc.append(\"High-income, high-spending (Premium Customers)\")\n",
    "    elif row['age'] < summary['age'].mean() and row['frequency'] > summary['frequency'].mean():\n",
    "        desc.append(\"Young, frequent shoppers (Enthusiasts)\")\n",
    "    elif row['spending'] < summary['spending'].mean() and row['frequency'] < summary['frequency'].mean():\n",
    "        desc.append(\"Low-spending, infrequent (Budget/Occasional Shoppers)\")\n",
    "    elif row['age'] > summary['age'].mean():\n",
    "        desc.append(\"Older customers (Mature Segment)\")\n",
    "    else:\n",
    "        desc.append(\"Average/Regular Customers\")\n",
    "    print(f\"Cluster {cluster_id}: {', '.join(desc)}\")\n",
    "    print(row)\n",
    "    print(\"-\" * 40)\n",
    "knn = KNeighborsClassifier(n_neighbors=3)\n",
    "knn.fit(scaled_features, df['cluster'])"
   ]
  }
 ],
 "metadata": {
  "kernelspec": {
   "display_name": ".venv",
   "language": "python",
   "name": "python3"
  },
  "language_info": {
   "codemirror_mode": {
    "name": "ipython",
    "version": 3
   },
   "file_extension": ".py",
   "mimetype": "text/x-python",
   "name": "python",
   "nbconvert_exporter": "python",
   "pygments_lexer": "ipython3",
   "version": "3.13.1"
  }
 },
 "nbformat": 4,
 "nbformat_minor": 5
}
