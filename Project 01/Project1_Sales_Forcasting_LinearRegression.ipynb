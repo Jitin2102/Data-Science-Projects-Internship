{
 "cells": [
  {
   "cell_type": "markdown",
   "id": "87380207",
   "metadata": {},
   "source": [
    "**Project 1: Sales Forecasting with Linear Regression\n**" 
   ]
  },
  {
   "cell_type": "markdown",
   "id": "1d277dfb",
   "metadata": {},
   "source": [
    "***Importing necessary libraries***"
   ]
  },
  {
   "cell_type": "code",
   "execution_count": null,
   "id": "9c0d549a",
   "metadata": {},
   "outputs": [],
   "source": [
    "# %pip install pandas\n",
    "# %pip install numpy\n",
    "# %pip install matplot\n",
    "# %pip install scikit-learn\n",
    "import pandas as pd\n",
    "import numpy as np\n",
    "import matplotlib.pyplot as plt\n",
    "from sklearn.model_selection import train_test_split\n",
    "from sklearn.linear_model import LinearRegression\n",
    "from sklearn.metrics import mean_absolute_error, mean_squared_error, r2_score"
   ]
  },
  {
   "cell_type": "markdown",
   "id": "a2d361e5",
   "metadata": {},
   "source": [
    "***DataSet from kaggle***"
   ]
  },
  {
   "cell_type": "code",
   "execution_count": null,
   "id": "434e8d1a",
   "metadata": {},
   "outputs": [],
   "source": [
    "df = pd.read_csv(\"sales_data.csv\")\n",
    "print(df)"
   ]
  },
  {
   "cell_type": "markdown",
   "id": "eddc34cc",
   "metadata": {},
   "source": [
    "***Data Preprocessing***"
   ]
  },
  {
   "cell_type": "code",
   "execution_count": null,
   "id": "81d4aa2a",
   "metadata": {},
   "outputs": [],
   "source": [
    "df.columns = [col.strip() for col in df.columns]  \n",
    "df[\"Date\"] = pd.to_datetime(df[\"Date\"], errors=\"coerce\")\n",
    "\n",
    "if \"turnover\" not in df.columns:\n",
    "    df[\"turnover\"] = df[\"Price Each\"] * df[\"Quantity Ordered\"]\n",
    "\n",
    "# Extract month and year from the date\n",
    "df[\"month\"] = df[\"Date\"].dt.month\n",
    "df[\"year\"] = df[\"Date\"].dt.year"
   ]
  },
  {
   "cell_type": "markdown",
   "id": "4091119b",
   "metadata": {},
   "source": [
    "***Handling Null Values, Features and Target***"
   ]
  },
  {
   "cell_type": "code",
   "execution_count": null,
   "id": "ee549d4d",
   "metadata": {},
   "outputs": [],
   "source": [
    "df.dropna(subset=[\"month\", \"year\", \"Quantity Ordered\", \"turnover\"], inplace=True)\n",
    "\n",
    "# Features and target\n",
    "X = df[[\"month\", \"year\", \"Quantity Ordered\"]]\n",
    "y = df[\"turnover\"]"
   ]
  },
  {
   "cell_type": "markdown",
   "id": "a80bc53a",
   "metadata": {},
   "source": [
    "***Training Linear Regression Model***"
   ]
  },
  {
   "cell_type": "code",
   "execution_count": null,
   "id": "7376cf4d",
   "metadata": {},
   "outputs": [],
   "source": [
    "X_train, X_test, y_train, y_test = train_test_split(X, y, test_size=0.2, random_state=42)\n",
    "\n",
    "model = LinearRegression()\n",
    "model.fit(X_train, y_train)"
   ]
  },
  {
   "cell_type": "markdown",
   "id": "ab956554",
   "metadata": {},
   "source": [
    "***Predictions and Evalauation of Model***"
   ]
  },
  {
   "cell_type": "code",
   "execution_count": null,
   "id": "86f6595a",
   "metadata": {},
   "outputs": [],
   "source": [
    "\n",
    "y_pred = model.predict(X_test)\n",
    "\n",
    "mae = mean_absolute_error(y_test, y_pred)\n",
    "mse = mean_squared_error(y_test, y_pred)\n",
    "\n",
    "print(f\"Mean Absolute Error: {mae:.2f}\")\n",
    "print(f\"Mean Squared Error: {mse:.2f}\")\n",
    "\n",
    "# Performance Metrics\n",
    "r2 = r2_score(y_test, y_pred)\n",
    "print(f\"R^2 Score: {r2:.2f}\")"
   ]
  },
  {
   "cell_type": "markdown",
   "id": "a53049ea",
   "metadata": {},
   "source": [
    "***Actual vs Predicted Plot***"
   ]
  },
  {
   "cell_type": "code",
   "execution_count": null,
   "id": "4433eca9",
   "metadata": {},
   "outputs": [],
   "source": [
    "plt.figure(figsize=(10,5))\n",
    "plt.scatter(y_test, y_pred, color=\"blue\", alpha=0.5, label=\"Predictions\")\n",
    "plt.plot([y.min(), y.max()], [y.min(), y.max()], linestyle=\"--\", color=\"red\", label=\"Perfect Fit\")\n",
    "plt.xlabel(\"Actual Revenue\")\n",
    "plt.ylabel(\"Predicted Revenue\")\n",
    "plt.title(\"Actual vs Predicted Sales\")\n",
    "plt.legend()\n",
    "plt.tight_layout()\n",
    "plt.show()"
   ]
  },
  {
   "cell_type": "markdown",
   "id": "ae09c9d0",
   "metadata": {},
   "source": [
    "***Graphical Forecast: Plot actual vs predicted revenue***"
   ]
  },
  {
   "cell_type": "code",
   "execution_count": null,
   "id": "d6abf023",
   "metadata": {},
   "outputs": [],
   "source": [
    "y_pred_series = pd.Series(y_pred, index=y_test.index)\n",
    "sorted_idx = y_test.sort_index().index\n",
    "actual_sorted = y_test.loc[sorted_idx]\n",
    "pred_sorted = y_pred_series.loc[sorted_idx]\n",
    "residuals = actual_sorted - pred_sorted\n"
   ]
  },
  {
   "cell_type": "code",
   "execution_count": null,
   "id": "26870393",
   "metadata": {},
   "outputs": [],
   "source": [
    "# Prepare consistent x-axis positions\n",
    "x = np.arange(len(actual_sorted))\n",
    "bar_width = 0.4\n",
    "\n",
    "fig, axs = plt.subplots(2, 1, figsize=(14, 14), sharex=True,gridspec_kw={'hspace': 0.4}, constrained_layout=True)\n",
    "\n",
    "# Line Plot\n",
    "axs[0].plot(x, actual_sorted.values, label=\"Actual\", color=\"green\", marker='o', linestyle='-', linewidth=2)\n",
    "axs[0].plot(x, pred_sorted.values, label=\"Predicted\", color=\"darkorange\", marker='x', linestyle='--', linewidth=2)\n",
    "axs[0].set_title(\"Forecast Trend: Actual vs Predicted\", fontsize=14, fontweight='bold')\n",
    "axs[0].set_ylabel(\"Revenue\")\n",
    "axs[0].legend(loc=\"upper left\")\n",
    "axs[0].grid(True, linestyle='--', alpha=0.5)\n",
    "\n",
    "# Residual Plot\n",
    "axs[1].fill_between(x, residuals.values, 0, color='gray', alpha=0.3, label=\"Residuals\")\n",
    "axs[1].plot(x, residuals.values, color=\"purple\", linestyle='-', marker='d', label=\"Error Line\")\n",
    "axs[1].axhline(0, color='red', linestyle='--')\n",
    "axs[1].set_title(\"Forecast Error (Residuals)\", fontsize=14, fontweight='bold')\n",
    "axs[1].set_xlabel(\"Sample Index\")\n",
    "axs[1].set_ylabel(\"Error\")\n",
    "axs[1].legend(loc=\"lower left\")\n",
    "axs[1].grid(True, linestyle='--', alpha=0.4)\n",
    "\n",
    "plt.xticks(fontsize=10)\n",
    "plt.yticks(fontsize=10)\n",
    "plt.suptitle(\"Graphical Forecast Dashboard\", fontsize=16, fontweight='bold')\n",
    "plt.show()\n"
   ]
  },
  {
   "cell_type": "markdown",
   "id": "6fda88e7",
   "metadata": {},
   "source": [
    "***Tabular Forecasts:A sample of actual vs predicted in a table***"
   ]
  },
  {
   "cell_type": "code",
   "execution_count": null,
   "id": "f17d2897",
   "metadata": {},
   "outputs": [],
   "source": [
    "forecast_df = pd.DataFrame({\n",
    "    \"Actual\": y_test,\n",
    "    \"Predicted\": y_pred\n",
    "}).reset_index(drop=True)\n",
    "print(\"\\nTabular Forecasts  (first 20 rows):\")\n",
    "print(forecast_df.head(20))"
   ]
  },
  {
   "cell_type": "markdown",
   "id": "096c07d5",
   "metadata": {},
   "source": [
    "***Forcast for upcoming year 2026***"
   ]
  },
  {
   "cell_type": "code",
   "execution_count": null,
   "id": "6f5b597b",
   "metadata": {},
   "outputs": [],
   "source": [
    "future_months = pd.DataFrame({\n",
    "    \"month\": [1, 2, 3, 4, 5, 6,7,8,9,10,11,12],\n",
    "    \"year\": [2026] * 12,\n",
    "    \"Quantity Ordered\": [df[\"Quantity Ordered\"].mean()] * 12\n",
    "})\n",
    "future_predictions = model.predict(future_months)\n",
    "future_months[\"Predicted Turnover\"] = future_predictions\n",
    "\n",
    "# as bar chart\n",
    "plt.figure(figsize=(14,6))\n",
    "plt.bar(future_months[\"month\"], future_months[\"Predicted Turnover\"], color='cornflowerblue')\n",
    "plt.xlabel(\"Month\")\n",
    "plt.ylabel(\"Predicted Revenue\")\n",
    "plt.title(\"Forecasted Sales Revenue for 2020 (Jan–Dec)\")\n",
    "plt.xticks(future_months[\"month\"])\n",
    "plt.grid(axis='y', linestyle='--', alpha=0.6)\n",
    "plt.tight_layout()\n",
    "plt.show()\n",
    "\n",
    "print(\"Forecast for upcoming year 2026:\\n\")\n",
    "for month, prediction in zip(future_months[\"month\"], future_months[\"Predicted Turnover\"]):\n",
    "    print(f\"Month {month}: Predicted Turnover = {prediction:,.2f}\")\n",
    "\n",
    "# Save to CSV if user wants to save then change index\n",
    "future_months.to_csv(\"future_sales_forecast.csv\", index=False)"
   ]
  }
 ],
 "metadata": {
  "kernelspec": {
   "display_name": ".venv",
   "language": "python",
   "name": "python3"
  },
  "language_info": {
   "codemirror_mode": {
    "name": "ipython",
    "version": 3
   },
   "file_extension": ".py",
   "mimetype": "text/x-python",
   "name": "python",
   "nbconvert_exporter": "python",
   "pygments_lexer": "ipython3",
   "version": "3.13.3"
  }
 },
 "nbformat": 4,
 "nbformat_minor": 5
}
