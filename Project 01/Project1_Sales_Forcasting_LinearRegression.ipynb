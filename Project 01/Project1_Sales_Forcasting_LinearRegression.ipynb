{
 "cells": [
  {
   "cell_type": "markdown",
   "id": "87380207",
   "metadata": {},
   "source": [
    "**Project 1: Sales Forecasting with Linear Regression**"
   ]
  },
  {
   "cell_type": "markdown",
   "id": "1d277dfb",
   "metadata": {},
   "source": [
    "***Importing necessary libraries***"
   ]
  },
  {
   "cell_type": "code",
   "execution_count": null,
   "id": "9c0d549a",
   "metadata": {},
   "outputs": [],
   "source": [
    "import pandas as pd\n",
    "import matplotlib.pyplot as plt\n",
    "from sklearn.model_selection import train_test_split\n",
    "from sklearn.linear_model import LinearRegression\n",
    "from sklearn.metrics import mean_absolute_error, mean_squared_error, r2_score"
   ]
  },
  {
   "cell_type": "markdown",
   "id": "a2d361e5",
   "metadata": {},
   "source": [
    "***DataSet from kaggle***"
   ]
  },
  {
   "cell_type": "code",
   "execution_count": null,
   "id": "434e8d1a",
   "metadata": {},
   "outputs": [],
   "source": [
    "df = pd.read_csv(\"C:/Users/HP/Python/Data Science Projects/sales_data.csv\")\n",
    "print(df)"
   ]
  },
  {
   "cell_type": "markdown",
   "id": "eddc34cc",
   "metadata": {},
   "source": [
    "***Data Preprocessing***"
   ]
  },
  {
   "cell_type": "code",
   "execution_count": null,
   "id": "81d4aa2a",
   "metadata": {},
   "outputs": [],
   "source": [
    "df.columns = [col.strip() for col in df.columns]  \n",
    "df[\"Date\"] = pd.to_datetime(df[\"Date\"], errors=\"coerce\")\n",
    "\n",
    "if \"turnover\" not in df.columns:\n",
    "    df[\"turnover\"] = df[\"Price Each\"] * df[\"Quantity Ordered\"]\n",
    "\n",
    "# Extract month and year from the date\n",
    "df[\"month\"] = df[\"Date\"].dt.month\n",
    "df[\"year\"] = df[\"Date\"].dt.year"
   ]
  },
  {
   "cell_type": "markdown",
   "id": "4091119b",
   "metadata": {},
   "source": [
    "***Handling Null Values, Features and Target***"
   ]
  },
  {
   "cell_type": "code",
   "execution_count": null,
   "id": "ee549d4d",
   "metadata": {},
   "outputs": [],
   "source": [
    "df.dropna(subset=[\"month\", \"year\", \"Quantity Ordered\", \"turnover\"], inplace=True)\n",
    "\n",
    "# Features and target\n",
    "X = df[[\"month\", \"year\", \"Quantity Ordered\"]]\n",
    "y = df[\"turnover\"]"
   ]
  },
  {
   "cell_type": "markdown",
   "id": "a80bc53a",
   "metadata": {},
   "source": [
    "***Training Linear Regression Model***"
   ]
  },
  {
   "cell_type": "code",
   "execution_count": null,
   "id": "7376cf4d",
   "metadata": {},
   "outputs": [],
   "source": [
    "X_train, X_test, y_train, y_test = train_test_split(X, y, test_size=0.2, random_state=42)\n",
    "\n",
    "model = LinearRegression()\n",
    "model.fit(X_train, y_train)"
   ]
  },
  {
   "cell_type": "markdown",
   "id": "ab956554",
   "metadata": {},
   "source": [
    "***Predictions and Evalauation of Model***"
   ]
  },
  {
   "cell_type": "code",
   "execution_count": null,
   "id": "86f6595a",
   "metadata": {},
   "outputs": [],
   "source": [
    "#predictions\n",
    "y_pred = model.predict(X_test)\n",
    "\n",
    "# Evaluation of model\n",
    "mae = mean_absolute_error(y_test, y_pred)\n",
    "mse = mean_squared_error(y_test, y_pred)\n",
    "\n",
    "print(f\"Mean Absolute Error: {mae:.2f}\")\n",
    "print(f\"Mean Squared Error: {mse:.2f}\")\n",
    "\n",
    "# Performance Metrics\n",
    "r2 = r2_score(y_test, y_pred)\n",
    "print(f\"R^2 Score: {r2:.2f}\")"
   ]
  },
  {
   "cell_type": "markdown",
   "id": "a53049ea",
   "metadata": {},
   "source": [
    "***Actual vs Predicted Plot***"
   ]
  },
  {
   "cell_type": "code",
   "execution_count": null,
   "id": "4433eca9",
   "metadata": {},
   "outputs": [],
   "source": [
    "plt.figure(figsize=(10,5))\n",
    "plt.scatter(y_test, y_pred, color=\"blue\", alpha=0.5, label=\"Predictions\")\n",
    "plt.plot([y.min(), y.max()], [y.min(), y.max()], linestyle=\"--\", color=\"red\", label=\"Perfect Fit\")\n",
    "plt.xlabel(\"Actual Revenue\")\n",
    "plt.ylabel(\"Predicted Revenue\")\n",
    "plt.title(\"Actual vs Predicted Sales\")\n",
    "plt.legend()\n",
    "plt.tight_layout()\n",
    "plt.show()"
   ]
  },
  {
   "cell_type": "markdown",
   "id": "ae09c9d0",
   "metadata": {},
   "source": [
    "***Graphical Forecast: Plot actual vs predicted revenue***"
   ]
  },
  {
   "cell_type": "code",
   "execution_count": null,
   "id": "d6abf023",
   "metadata": {},
   "outputs": [],
   "source": [
    "plt.figure(figsize=(12,6))\n",
    "sorted_idx = y_test.sort_index().index\n",
    "plt.plot(y_test.loc[sorted_idx].values, label=\"Actual\", color=\"green\", marker='o', linestyle='-')\n",
    "plt.plot(pd.Series(y_pred, index=y_test.index).loc[sorted_idx].values, label=\"Predicted\", color=\"orange\", marker='x', linestyle='--')\n",
    "plt.xlabel(\"Sample Index\")\n",
    "plt.ylabel(\"Revenue\")\n",
    "plt.title(\"Graphical Forecast: Actual vs Predicted Revenue\")\n",
    "plt.legend()\n",
    "plt.grid(True, linestyle='--', alpha=0.6)\n",
    "plt.tight_layout()\n",
    "plt.show()"
   ]
  },
  {
   "cell_type": "markdown",
   "id": "6fda88e7",
   "metadata": {},
   "source": [
    "***Tabular Forecasts:A sample of actual vs predicted in a table***"
   ]
  },
  {
   "cell_type": "code",
   "execution_count": null,
   "id": "f17d2897",
   "metadata": {},
   "outputs": [],
   "source": [
    "forecast_df = pd.DataFrame({\n",
    "    \"Actual\": y_test,\n",
    "    \"Predicted\": y_pred\n",
    "}).reset_index(drop=True)\n",
    "print(\"\\nTabular Forecasts (first 20 rows):\")\n",
    "print(forecast_df.head(20))"
   ]
  }
 ],
 "metadata": {
  "kernelspec": {
   "display_name": ".venv",
   "language": "python",
   "name": "python3"
  },
  "language_info": {
   "codemirror_mode": {
    "name": "ipython",
    "version": 3
   },
   "file_extension": ".py",
   "mimetype": "text/x-python",
   "name": "python",
   "nbconvert_exporter": "python",
   "pygments_lexer": "ipython3",
   "version": "3.13.1"
  }
 },
 "nbformat": 4,
 "nbformat_minor": 5
}
